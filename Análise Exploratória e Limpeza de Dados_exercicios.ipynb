{
 "cells": [
  {
   "cell_type": "markdown",
   "metadata": {},
   "source": [
    "<div style=\"color:white;background-color:#0B244E;padding:20px;width:100%\">\n",
    "<img src=\"https://www.eseg.edu.br/assets/dist/assets/images/logo/136x136.svg\" style=\"\"></img>\n",
    "</div>\n",
    "<div style=\"color:white;background-color:#0B244E;padding:20px;width:100%;border-top: 1px solid white\">\n",
    "Data Science 1 / Prof. Fernando Pablos\n",
    "</div>"
   ]
  },
  {
   "cell_type": "markdown",
   "metadata": {},
   "source": [
    "<h1>Análise Exploratória - Exercícios</h1>\n",
    "\n",
    "\n"
   ]
  },
  {
   "cell_type": "markdown",
   "metadata": {},
   "source": [
    "<p>Exercício 1 - Realize a importação do arquivo dataset_vendas_online.csv</p>"
   ]
  },
  {
   "cell_type": "code",
   "execution_count": 4,
   "metadata": {},
   "outputs": [
    {
     "data": {
      "text/html": [
       "<div>\n",
       "<style scoped>\n",
       "    .dataframe tbody tr th:only-of-type {\n",
       "        vertical-align: middle;\n",
       "    }\n",
       "\n",
       "    .dataframe tbody tr th {\n",
       "        vertical-align: top;\n",
       "    }\n",
       "\n",
       "    .dataframe thead th {\n",
       "        text-align: right;\n",
       "    }\n",
       "</style>\n",
       "<table border=\"1\" class=\"dataframe\">\n",
       "  <thead>\n",
       "    <tr style=\"text-align: right;\">\n",
       "      <th></th>\n",
       "      <th>col1</th>\n",
       "      <th>col2</th>\n",
       "      <th>catA</th>\n",
       "      <th>catB</th>\n",
       "      <th>num1</th>\n",
       "      <th>num2</th>\n",
       "    </tr>\n",
       "  </thead>\n",
       "  <tbody>\n",
       "    <tr>\n",
       "      <th>0</th>\n",
       "      <td>174.84</td>\n",
       "      <td>3.0</td>\n",
       "      <td>Beleza</td>\n",
       "      <td>Pix</td>\n",
       "      <td>34.0</td>\n",
       "      <td>7.76</td>\n",
       "    </tr>\n",
       "    <tr>\n",
       "      <th>1</th>\n",
       "      <td>143.09</td>\n",
       "      <td>32.0</td>\n",
       "      <td>Beleza</td>\n",
       "      <td>Pix</td>\n",
       "      <td>40.0</td>\n",
       "      <td>4.94</td>\n",
       "    </tr>\n",
       "    <tr>\n",
       "      <th>2</th>\n",
       "      <td>182.38</td>\n",
       "      <td>3.0</td>\n",
       "      <td>Eletrônico</td>\n",
       "      <td>Pix</td>\n",
       "      <td>41.0</td>\n",
       "      <td>9.91</td>\n",
       "    </tr>\n",
       "    <tr>\n",
       "      <th>3</th>\n",
       "      <td>226.15</td>\n",
       "      <td>27.0</td>\n",
       "      <td>Beleza</td>\n",
       "      <td>Cartão Débito</td>\n",
       "      <td>62.0</td>\n",
       "      <td>22.70</td>\n",
       "    </tr>\n",
       "    <tr>\n",
       "      <th>4</th>\n",
       "      <td>138.29</td>\n",
       "      <td>29.0</td>\n",
       "      <td>Beleza</td>\n",
       "      <td>Cartão Credito</td>\n",
       "      <td>36.0</td>\n",
       "      <td>15.58</td>\n",
       "    </tr>\n",
       "  </tbody>\n",
       "</table>\n",
       "</div>"
      ],
      "text/plain": [
       "     col1  col2        catA            catB  num1   num2\n",
       "0  174.84   3.0      Beleza             Pix  34.0   7.76\n",
       "1  143.09  32.0      Beleza             Pix  40.0   4.94\n",
       "2  182.38   3.0  Eletrônico             Pix  41.0   9.91\n",
       "3  226.15  27.0      Beleza   Cartão Débito  62.0  22.70\n",
       "4  138.29  29.0      Beleza  Cartão Credito  36.0  15.58"
      ]
     },
     "execution_count": 4,
     "metadata": {},
     "output_type": "execute_result"
    }
   ],
   "source": [
    "import pandas as pd\n",
    "\n",
    "df = pd.read_csv('dataset_vendas_online.csv')\n",
    "df.head()"
   ]
  },
  {
   "cell_type": "markdown",
   "metadata": {},
   "source": [
    "<p>Exercício 2 - Os nomes das colunas são muito esquisitos. Após consultarmos o analista responsável pela planilha, ele nos explicou que:</p>\n",
    "<ul>\n",
    "<li>col1 é o preço do produto</li>\n",
    "<li>col2 é a quantidade vendida</li>\n",
    "<li>catA é a categoria do produto</li>\n",
    "<li>catB é o meio de pagamento</li>\n",
    "<li>num1 é a idade do cliente</li>\n",
    "<li>num2 é o valor do desconto aplicado</li>\n",
    "</ul>\n",
    "\n",
    "<p>Corrija os nomes das colunas</p>"
   ]
  },
  {
   "cell_type": "code",
   "execution_count": 9,
   "metadata": {},
   "outputs": [
    {
     "data": {
      "text/html": [
       "<div>\n",
       "<style scoped>\n",
       "    .dataframe tbody tr th:only-of-type {\n",
       "        vertical-align: middle;\n",
       "    }\n",
       "\n",
       "    .dataframe tbody tr th {\n",
       "        vertical-align: top;\n",
       "    }\n",
       "\n",
       "    .dataframe thead th {\n",
       "        text-align: right;\n",
       "    }\n",
       "</style>\n",
       "<table border=\"1\" class=\"dataframe\">\n",
       "  <thead>\n",
       "    <tr style=\"text-align: right;\">\n",
       "      <th></th>\n",
       "      <th>Preço do produto</th>\n",
       "      <th>Quantidade vendida</th>\n",
       "      <th>Categoria</th>\n",
       "      <th>catB</th>\n",
       "      <th>Idade do cliente</th>\n",
       "      <th>IDesconto</th>\n",
       "    </tr>\n",
       "  </thead>\n",
       "  <tbody>\n",
       "    <tr>\n",
       "      <th>0</th>\n",
       "      <td>174.84</td>\n",
       "      <td>3.0</td>\n",
       "      <td>Beleza</td>\n",
       "      <td>Pix</td>\n",
       "      <td>34.0</td>\n",
       "      <td>7.76</td>\n",
       "    </tr>\n",
       "    <tr>\n",
       "      <th>1</th>\n",
       "      <td>143.09</td>\n",
       "      <td>32.0</td>\n",
       "      <td>Beleza</td>\n",
       "      <td>Pix</td>\n",
       "      <td>40.0</td>\n",
       "      <td>4.94</td>\n",
       "    </tr>\n",
       "    <tr>\n",
       "      <th>2</th>\n",
       "      <td>182.38</td>\n",
       "      <td>3.0</td>\n",
       "      <td>Eletrônico</td>\n",
       "      <td>Pix</td>\n",
       "      <td>41.0</td>\n",
       "      <td>9.91</td>\n",
       "    </tr>\n",
       "    <tr>\n",
       "      <th>3</th>\n",
       "      <td>226.15</td>\n",
       "      <td>27.0</td>\n",
       "      <td>Beleza</td>\n",
       "      <td>Cartão Débito</td>\n",
       "      <td>62.0</td>\n",
       "      <td>22.70</td>\n",
       "    </tr>\n",
       "    <tr>\n",
       "      <th>4</th>\n",
       "      <td>138.29</td>\n",
       "      <td>29.0</td>\n",
       "      <td>Beleza</td>\n",
       "      <td>Cartão Credito</td>\n",
       "      <td>36.0</td>\n",
       "      <td>15.58</td>\n",
       "    </tr>\n",
       "  </tbody>\n",
       "</table>\n",
       "</div>"
      ],
      "text/plain": [
       "   Preço do produto  Quantidade vendida   Categoria            catB  \\\n",
       "0            174.84                 3.0      Beleza             Pix   \n",
       "1            143.09                32.0      Beleza             Pix   \n",
       "2            182.38                 3.0  Eletrônico             Pix   \n",
       "3            226.15                27.0      Beleza   Cartão Débito   \n",
       "4            138.29                29.0      Beleza  Cartão Credito   \n",
       "\n",
       "   Idade do cliente  IDesconto  \n",
       "0              34.0       7.76  \n",
       "1              40.0       4.94  \n",
       "2              41.0       9.91  \n",
       "3              62.0      22.70  \n",
       "4              36.0      15.58  "
      ]
     },
     "execution_count": 9,
     "metadata": {},
     "output_type": "execute_result"
    }
   ],
   "source": [
    "df=df.rename(columns={\n",
    "'col1':'Preço do produto',\n",
    "'col2':'Quantidade vendida',\n",
    "'catA':'Categoria',\n",
    "'colB':'Meio de pagamento',                   \n",
    "'num1':'Idade do cliente',\n",
    " 'num2':'IDesconto'})\n",
    "df.head()"
   ]
  },
  {
   "cell_type": "markdown",
   "metadata": {},
   "source": [
    "<p style=\"color:blue; background-color:gray\">Vamos observar mais a fundo nossa planilha:</p>"
   ]
  },
  {
   "cell_type": "code",
   "execution_count": 10,
   "metadata": {},
   "outputs": [
    {
     "name": "stdout",
     "output_type": "stream",
     "text": [
      "<class 'pandas.core.frame.DataFrame'>\n",
      "RangeIndex: 450 entries, 0 to 449\n",
      "Data columns (total 6 columns):\n",
      " #   Column              Non-Null Count  Dtype  \n",
      "---  ------              --------------  -----  \n",
      " 0   Preço do produto    360 non-null    float64\n",
      " 1   Quantidade vendida  382 non-null    float64\n",
      " 2   Categoria           450 non-null    object \n",
      " 3   catB                450 non-null    object \n",
      " 4   Idade do cliente    405 non-null    float64\n",
      " 5   IDesconto           450 non-null    float64\n",
      "dtypes: float64(4), object(2)\n",
      "memory usage: 21.2+ KB\n"
     ]
    }
   ],
   "source": [
    "df.info() #Execute esse código"
   ]
  },
  {
   "cell_type": "markdown",
   "metadata": {},
   "source": [
    "<p>Exercício 3 - Precisamos tratar os dados faltantes.</p>\n",
    "<p>No caso do preço do produto, vamos atribuir a mediana</p>\n",
    "<p>Na quantidade vendida, a média</p>\n",
    "<p>Na idade do cliente, a moda</p>\n"
   ]
  },
  {
   "cell_type": "code",
   "execution_count": 15,
   "metadata": {},
   "outputs": [
    {
     "name": "stdout",
     "output_type": "stream",
     "text": [
      "<class 'pandas.core.frame.DataFrame'>\n",
      "RangeIndex: 450 entries, 0 to 449\n",
      "Data columns (total 6 columns):\n",
      " #   Column              Non-Null Count  Dtype  \n",
      "---  ------              --------------  -----  \n",
      " 0   Preço do produto    450 non-null    float64\n",
      " 1   Quantidade vendida  450 non-null    float64\n",
      " 2   Categoria           450 non-null    object \n",
      " 3   catB                450 non-null    object \n",
      " 4   Idade do cliente    450 non-null    float64\n",
      " 5   IDesconto           450 non-null    float64\n",
      "dtypes: float64(4), object(2)\n",
      "memory usage: 21.2+ KB\n"
     ]
    }
   ],
   "source": [
    "mediana_preco = df['Preço do produto'].median()\n",
    "df['Preço do produto'] =df['Preço do produto'].fillna(mediana_preco)\n",
    "media_quantidade_vendida= df['Quantidade vendida'].mean()\n",
    "df['Quantidade vendida'] = df['Quantidade vendida'].fillna(media_quantidade_vendida)\n",
    "moda_idade_cliente= df['Idade do cliente'].mode()\n",
    "df['Idade do cliente'] = df['Idade do cliente'].fillna(moda_idade_cliente[0])\n",
    "df.info()\n"
   ]
  },
  {
   "cell_type": "markdown",
   "metadata": {},
   "source": [
    "<p>Exercício 4 - Vamos analisar nossos dados categóricos, a saber: Categoria e Meio de Pagamento. Crie gráficos de barras para essas colunas para observar se está tudo ok.</p>"
   ]
  },
  {
   "cell_type": "code",
   "execution_count": 11,
   "metadata": {},
   "outputs": [
    {
     "data": {
      "text/plain": [
       "<Axes: xlabel='Categoria'>"
      ]
     },
     "execution_count": 11,
     "metadata": {},
     "output_type": "execute_result"
    },
    {
     "data": {
      "image/png": "[encoded data removed]",
      "text/plain": [
       "<Figure size 640x480 with 1 Axes>"
      ]
     },
     "metadata": {},
     "output_type": "display_data"
    }
   ],
   "source": [
    "import seaborn as sns\n",
    "grupo_categoria= df.groupby(['Categoria']).size()\n",
    "grupo_categoria.plot.bar()\n",
    "#sns.barplot(data=grupo_categoria)"
   ]
  },
  {
   "cell_type": "code",
   "execution_count": null,
   "metadata": {},
   "outputs": [],
   "source": []
  },
  {
   "cell_type": "markdown",
   "metadata": {},
   "source": [
    "<p>Exercício 5 - Remova os valores equivocados e unifique valores que foram digitados incorretamente</p>"
   ]
  },
  {
   "cell_type": "code",
   "execution_count": null,
   "metadata": {},
   "outputs": [],
   "source": [
    "\n",
    "df= df[df['categoria'] != teste']\n",
    "df=df[df['Meio de pagamento']!= 'Inválido']\n",
    "df"
   ]
  },
  {
   "cell_type": "markdown",
   "metadata": {},
   "source": [
    "<p>Exercício 6 - Vamos descrever (describe) os dados numéricos</p>"
   ]
  },
  {
   "cell_type": "code",
   "execution_count": null,
   "metadata": {},
   "outputs": [],
   "source": []
  },
  {
   "cell_type": "markdown",
   "metadata": {},
   "source": [
    "<p>Exercício 7 - Agora analise esses dados gerando boxplots e histogramas para os que parecem ter problemas e depois corrija os problemas identificados</p>"
   ]
  },
  {
   "cell_type": "code",
   "execution_count": null,
   "metadata": {},
   "outputs": [],
   "source": [
    "#Gere boxplots e histogramas\n"
   ]
  },
  {
   "cell_type": "code",
   "execution_count": null,
   "metadata": {},
   "outputs": [],
   "source": [
    "#Corrija os problemas identificados e comprove que foram corrigidos\n"
   ]
  },
  {
   "cell_type": "markdown",
   "metadata": {},
   "source": [
    "<p>Exercício 8 - Verifique se há alguma correlação entre as variáveis numéricas por meio de correlação e diagrama de dispersão</p>"
   ]
  },
  {
   "cell_type": "code",
   "execution_count": null,
   "metadata": {},
   "outputs": [],
   "source": []
  }
 ],
 "metadata": {
  "kernelspec": {
   "display_name": "base",
   "language": "python",
   "name": "python3"
  },
  "language_info": {
   "codemirror_mode": {
    "name": "ipython",
    "version": 3
   },
   "file_extension": ".py",
   "mimetype": "text/x-python",
   "name": "python",
   "nbconvert_exporter": "python",
   "pygments_lexer": "ipython3",
   "version": "3.12.7"
  }
 },
 "nbformat": 4,
 "nbformat_minor": 2
}
